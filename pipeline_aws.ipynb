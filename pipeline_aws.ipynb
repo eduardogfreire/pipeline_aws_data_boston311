{
 "cells": [
  {
   "cell_type": "code",
   "execution_count": 67,
   "metadata": {},
   "outputs": [
    {
     "name": "stdout",
     "output_type": "stream",
     "text": [
      "Requirement already satisfied: boto3 in c:\\users\\lenovo\\appdata\\local\\packages\\pythonsoftwarefoundation.python.3.11_qbz5n2kfra8p0\\localcache\\local-packages\\python311\\site-packages (1.34.81)\n",
      "Requirement already satisfied: botocore<1.35.0,>=1.34.81 in c:\\users\\lenovo\\appdata\\local\\packages\\pythonsoftwarefoundation.python.3.11_qbz5n2kfra8p0\\localcache\\local-packages\\python311\\site-packages (from boto3) (1.34.81)\n",
      "Requirement already satisfied: jmespath<2.0.0,>=0.7.1 in c:\\users\\lenovo\\appdata\\local\\packages\\pythonsoftwarefoundation.python.3.11_qbz5n2kfra8p0\\localcache\\local-packages\\python311\\site-packages (from boto3) (1.0.1)\n",
      "Requirement already satisfied: s3transfer<0.11.0,>=0.10.0 in c:\\users\\lenovo\\appdata\\local\\packages\\pythonsoftwarefoundation.python.3.11_qbz5n2kfra8p0\\localcache\\local-packages\\python311\\site-packages (from boto3) (0.10.1)\n",
      "Requirement already satisfied: python-dateutil<3.0.0,>=2.1 in c:\\users\\lenovo\\appdata\\local\\packages\\pythonsoftwarefoundation.python.3.11_qbz5n2kfra8p0\\localcache\\local-packages\\python311\\site-packages (from botocore<1.35.0,>=1.34.81->boto3) (2.8.2)\n",
      "Requirement already satisfied: urllib3!=2.2.0,<3,>=1.25.4 in c:\\users\\lenovo\\appdata\\local\\packages\\pythonsoftwarefoundation.python.3.11_qbz5n2kfra8p0\\localcache\\local-packages\\python311\\site-packages (from botocore<1.35.0,>=1.34.81->boto3) (2.2.1)\n",
      "Requirement already satisfied: six>=1.5 in c:\\users\\lenovo\\appdata\\local\\packages\\pythonsoftwarefoundation.python.3.11_qbz5n2kfra8p0\\localcache\\local-packages\\python311\\site-packages (from python-dateutil<3.0.0,>=2.1->botocore<1.35.0,>=1.34.81->boto3) (1.16.0)\n",
      "Note: you may need to restart the kernel to use updated packages.\n"
     ]
    }
   ],
   "source": [
    "pip install boto3\n"
   ]
  },
  {
   "cell_type": "code",
   "execution_count": 68,
   "metadata": {},
   "outputs": [],
   "source": [
    "import urllib.request\n",
    "import pandas as pd\n",
    "import boto3"
   ]
  },
  {
   "cell_type": "code",
   "execution_count": 69,
   "metadata": {},
   "outputs": [],
   "source": [
    "urls = {\n",
    "    '2024':'https://data.boston.gov/dataset/8048697b-ad64-4bfc-b090-ee00169f2323/resource/dff4d804-5031-443a-8409-8344efd0e5c8/download/tmp6p9610su.csv',\n",
    "    '2023':'https://data.boston.gov/dataset/8048697b-ad64-4bfc-b090-ee00169f2323/resource/e6013a93-1321-4f2a-bf91-8d8a02f1e62f/download/tmp182oee02.csv',\n",
    "    '2022': 'https://data.boston.gov/dataset/8048697b-ad64-4bfc-b090-ee00169f2323/resource/81a7b022-f8fc-4da5-80e4-b160058ca207/download/tmpfm8veglw.csv',\n",
    "    '2021': 'https://data.boston.gov/dataset/8048697b-ad64-4bfc-b090-ee00169f2323/resource/f53ebccd-bc61-49f9-83db-625f209c95f5/download/tmp88p9g82n.csv',\n",
    "    '2020': 'https://data.boston.gov/dataset/8048697b-ad64-4bfc-b090-ee00169f2323/resource/6ff6a6fd-3141-4440-a880-6f60a37fe789/download/tmpcv_10m2s.csv',\n",
    "    '2019': 'https://data.boston.gov/dataset/8048697b-ad64-4bfc-b090-ee00169f2323/resource/ea2e4696-4a2d-429c-9807-d02eb92e0222/download/tmpcje3ep_w.csv',\n",
    "    '2018': 'https://data.boston.gov/dataset/8048697b-ad64-4bfc-b090-ee00169f2323/resource/2be28d90-3a90-4af1-a3f6-f28c1e25880a/download/tmp7602cia8.csv',\n",
    "    '2017': 'https://data.boston.gov/dataset/8048697b-ad64-4bfc-b090-ee00169f2323/resource/30022137-709d-465e-baae-ca155b51927d/download/tmpzccn8u4q.csv',\n",
    "    '2016': 'https://data.boston.gov/dataset/8048697b-ad64-4bfc-b090-ee00169f2323/resource/b7ea6b1b-3ca4-4c5b-9713-6dc1db52379a/download/tmpzxzxeqfb.csv',\n",
    "    '2015': 'https://data.boston.gov/dataset/8048697b-ad64-4bfc-b090-ee00169f2323/resource/c9509ab4-6f6d-4b97-979a-0cf2a10c922b/download/tmphrybkxuh.csv'\n",
    "}"
   ]
  },
  {
   "cell_type": "markdown",
   "metadata": {},
   "source": [
    "# Extaindo arquivos\n",
    "### base de dados Boston 311. \n",
    "#### Ano 2015 a 2024\n",
    "#### Url: [https://data.boston.gov/dataset/311-service-requests]"
   ]
  },
  {
   "cell_type": "code",
   "execution_count": 70,
   "metadata": {},
   "outputs": [],
   "source": [
    "keys = list(urls.keys())\n",
    "values = list(urls.values())\n"
   ]
  },
  {
   "cell_type": "code",
   "execution_count": 71,
   "metadata": {},
   "outputs": [
    {
     "ename": "KeyboardInterrupt",
     "evalue": "",
     "output_type": "error",
     "traceback": [
      "\u001b[1;31m---------------------------------------------------------------------------\u001b[0m",
      "\u001b[1;31mKeyboardInterrupt\u001b[0m                         Traceback (most recent call last)",
      "Cell \u001b[1;32mIn[71], line 8\u001b[0m\n\u001b[0;32m      4\u001b[0m         urllib\u001b[38;5;241m.\u001b[39mrequest\u001b[38;5;241m.\u001b[39murlretrieve(values[i], \u001b[38;5;124mf\u001b[39m\u001b[38;5;124m'\u001b[39m\u001b[38;5;124m./data/dados_\u001b[39m\u001b[38;5;132;01m{\u001b[39;00mkeys[i]\u001b[38;5;132;01m}\u001b[39;00m\u001b[38;5;124m.csv\u001b[39m\u001b[38;5;124m'\u001b[39m)\n\u001b[0;32m      6\u001b[0m \u001b[38;5;66;03m# Example usage\u001b[39;00m\n\u001b[1;32m----> 8\u001b[0m \u001b[43mextract_data\u001b[49m\u001b[43m(\u001b[49m\u001b[43mvalues\u001b[49m\u001b[43m,\u001b[49m\u001b[43m \u001b[49m\u001b[43mkeys\u001b[49m\u001b[43m)\u001b[49m\n",
      "Cell \u001b[1;32mIn[71], line 4\u001b[0m, in \u001b[0;36mextract_data\u001b[1;34m(key, value)\u001b[0m\n\u001b[0;32m      1\u001b[0m \u001b[38;5;28;01mdef\u001b[39;00m \u001b[38;5;21mextract_data\u001b[39m(key, value):\n\u001b[0;32m      3\u001b[0m     \u001b[38;5;28;01mfor\u001b[39;00m i \u001b[38;5;129;01min\u001b[39;00m \u001b[38;5;28mrange\u001b[39m(\u001b[38;5;28mlen\u001b[39m(keys)):\n\u001b[1;32m----> 4\u001b[0m         \u001b[43murllib\u001b[49m\u001b[38;5;241;43m.\u001b[39;49m\u001b[43mrequest\u001b[49m\u001b[38;5;241;43m.\u001b[39;49m\u001b[43murlretrieve\u001b[49m\u001b[43m(\u001b[49m\u001b[43mvalues\u001b[49m\u001b[43m[\u001b[49m\u001b[43mi\u001b[49m\u001b[43m]\u001b[49m\u001b[43m,\u001b[49m\u001b[43m \u001b[49m\u001b[38;5;124;43mf\u001b[39;49m\u001b[38;5;124;43m'\u001b[39;49m\u001b[38;5;124;43m./data/dados_\u001b[39;49m\u001b[38;5;132;43;01m{\u001b[39;49;00m\u001b[43mkeys\u001b[49m\u001b[43m[\u001b[49m\u001b[43mi\u001b[49m\u001b[43m]\u001b[49m\u001b[38;5;132;43;01m}\u001b[39;49;00m\u001b[38;5;124;43m.csv\u001b[39;49m\u001b[38;5;124;43m'\u001b[39;49m\u001b[43m)\u001b[49m\n",
      "File \u001b[1;32mC:\\Program Files\\WindowsApps\\PythonSoftwareFoundation.Python.3.11_3.11.2544.0_x64__qbz5n2kfra8p0\\Lib\\urllib\\request.py:270\u001b[0m, in \u001b[0;36murlretrieve\u001b[1;34m(url, filename, reporthook, data)\u001b[0m\n\u001b[0;32m    267\u001b[0m     reporthook(blocknum, bs, size)\n\u001b[0;32m    269\u001b[0m \u001b[38;5;28;01mwhile\u001b[39;00m \u001b[38;5;28;01mTrue\u001b[39;00m:\n\u001b[1;32m--> 270\u001b[0m     block \u001b[38;5;241m=\u001b[39m \u001b[43mfp\u001b[49m\u001b[38;5;241;43m.\u001b[39;49m\u001b[43mread\u001b[49m\u001b[43m(\u001b[49m\u001b[43mbs\u001b[49m\u001b[43m)\u001b[49m\n\u001b[0;32m    271\u001b[0m     \u001b[38;5;28;01mif\u001b[39;00m \u001b[38;5;129;01mnot\u001b[39;00m block:\n\u001b[0;32m    272\u001b[0m         \u001b[38;5;28;01mbreak\u001b[39;00m\n",
      "File \u001b[1;32mC:\\Program Files\\WindowsApps\\PythonSoftwareFoundation.Python.3.11_3.11.2544.0_x64__qbz5n2kfra8p0\\Lib\\http\\client.py:473\u001b[0m, in \u001b[0;36mHTTPResponse.read\u001b[1;34m(self, amt)\u001b[0m\n\u001b[0;32m    470\u001b[0m \u001b[38;5;28;01mif\u001b[39;00m \u001b[38;5;28mself\u001b[39m\u001b[38;5;241m.\u001b[39mlength \u001b[38;5;129;01mis\u001b[39;00m \u001b[38;5;129;01mnot\u001b[39;00m \u001b[38;5;28;01mNone\u001b[39;00m \u001b[38;5;129;01mand\u001b[39;00m amt \u001b[38;5;241m>\u001b[39m \u001b[38;5;28mself\u001b[39m\u001b[38;5;241m.\u001b[39mlength:\n\u001b[0;32m    471\u001b[0m     \u001b[38;5;66;03m# clip the read to the \"end of response\"\u001b[39;00m\n\u001b[0;32m    472\u001b[0m     amt \u001b[38;5;241m=\u001b[39m \u001b[38;5;28mself\u001b[39m\u001b[38;5;241m.\u001b[39mlength\n\u001b[1;32m--> 473\u001b[0m s \u001b[38;5;241m=\u001b[39m \u001b[38;5;28mself\u001b[39m\u001b[38;5;241m.\u001b[39mfp\u001b[38;5;241m.\u001b[39mread(amt)\n\u001b[0;32m    474\u001b[0m \u001b[38;5;28;01mif\u001b[39;00m \u001b[38;5;129;01mnot\u001b[39;00m s \u001b[38;5;129;01mand\u001b[39;00m amt:\n\u001b[0;32m    475\u001b[0m     \u001b[38;5;66;03m# Ideally, we would raise IncompleteRead if the content-length\u001b[39;00m\n\u001b[0;32m    476\u001b[0m     \u001b[38;5;66;03m# wasn't satisfied, but it might break compatibility.\u001b[39;00m\n\u001b[0;32m    477\u001b[0m     \u001b[38;5;28mself\u001b[39m\u001b[38;5;241m.\u001b[39m_close_conn()\n",
      "File \u001b[1;32mC:\\Program Files\\WindowsApps\\PythonSoftwareFoundation.Python.3.11_3.11.2544.0_x64__qbz5n2kfra8p0\\Lib\\socket.py:706\u001b[0m, in \u001b[0;36mSocketIO.readinto\u001b[1;34m(self, b)\u001b[0m\n\u001b[0;32m    704\u001b[0m \u001b[38;5;28;01mwhile\u001b[39;00m \u001b[38;5;28;01mTrue\u001b[39;00m:\n\u001b[0;32m    705\u001b[0m     \u001b[38;5;28;01mtry\u001b[39;00m:\n\u001b[1;32m--> 706\u001b[0m         \u001b[38;5;28;01mreturn\u001b[39;00m \u001b[38;5;28;43mself\u001b[39;49m\u001b[38;5;241;43m.\u001b[39;49m\u001b[43m_sock\u001b[49m\u001b[38;5;241;43m.\u001b[39;49m\u001b[43mrecv_into\u001b[49m\u001b[43m(\u001b[49m\u001b[43mb\u001b[49m\u001b[43m)\u001b[49m\n\u001b[0;32m    707\u001b[0m     \u001b[38;5;28;01mexcept\u001b[39;00m timeout:\n\u001b[0;32m    708\u001b[0m         \u001b[38;5;28mself\u001b[39m\u001b[38;5;241m.\u001b[39m_timeout_occurred \u001b[38;5;241m=\u001b[39m \u001b[38;5;28;01mTrue\u001b[39;00m\n",
      "File \u001b[1;32mC:\\Program Files\\WindowsApps\\PythonSoftwareFoundation.Python.3.11_3.11.2544.0_x64__qbz5n2kfra8p0\\Lib\\ssl.py:1314\u001b[0m, in \u001b[0;36mSSLSocket.recv_into\u001b[1;34m(self, buffer, nbytes, flags)\u001b[0m\n\u001b[0;32m   1310\u001b[0m     \u001b[38;5;28;01mif\u001b[39;00m flags \u001b[38;5;241m!=\u001b[39m \u001b[38;5;241m0\u001b[39m:\n\u001b[0;32m   1311\u001b[0m         \u001b[38;5;28;01mraise\u001b[39;00m \u001b[38;5;167;01mValueError\u001b[39;00m(\n\u001b[0;32m   1312\u001b[0m           \u001b[38;5;124m\"\u001b[39m\u001b[38;5;124mnon-zero flags not allowed in calls to recv_into() on \u001b[39m\u001b[38;5;132;01m%s\u001b[39;00m\u001b[38;5;124m\"\u001b[39m \u001b[38;5;241m%\u001b[39m\n\u001b[0;32m   1313\u001b[0m           \u001b[38;5;28mself\u001b[39m\u001b[38;5;241m.\u001b[39m\u001b[38;5;18m__class__\u001b[39m)\n\u001b[1;32m-> 1314\u001b[0m     \u001b[38;5;28;01mreturn\u001b[39;00m \u001b[38;5;28;43mself\u001b[39;49m\u001b[38;5;241;43m.\u001b[39;49m\u001b[43mread\u001b[49m\u001b[43m(\u001b[49m\u001b[43mnbytes\u001b[49m\u001b[43m,\u001b[49m\u001b[43m \u001b[49m\u001b[43mbuffer\u001b[49m\u001b[43m)\u001b[49m\n\u001b[0;32m   1315\u001b[0m \u001b[38;5;28;01melse\u001b[39;00m:\n\u001b[0;32m   1316\u001b[0m     \u001b[38;5;28;01mreturn\u001b[39;00m \u001b[38;5;28msuper\u001b[39m()\u001b[38;5;241m.\u001b[39mrecv_into(buffer, nbytes, flags)\n",
      "File \u001b[1;32mC:\\Program Files\\WindowsApps\\PythonSoftwareFoundation.Python.3.11_3.11.2544.0_x64__qbz5n2kfra8p0\\Lib\\ssl.py:1166\u001b[0m, in \u001b[0;36mSSLSocket.read\u001b[1;34m(self, len, buffer)\u001b[0m\n\u001b[0;32m   1164\u001b[0m \u001b[38;5;28;01mtry\u001b[39;00m:\n\u001b[0;32m   1165\u001b[0m     \u001b[38;5;28;01mif\u001b[39;00m buffer \u001b[38;5;129;01mis\u001b[39;00m \u001b[38;5;129;01mnot\u001b[39;00m \u001b[38;5;28;01mNone\u001b[39;00m:\n\u001b[1;32m-> 1166\u001b[0m         \u001b[38;5;28;01mreturn\u001b[39;00m \u001b[38;5;28;43mself\u001b[39;49m\u001b[38;5;241;43m.\u001b[39;49m\u001b[43m_sslobj\u001b[49m\u001b[38;5;241;43m.\u001b[39;49m\u001b[43mread\u001b[49m\u001b[43m(\u001b[49m\u001b[38;5;28;43mlen\u001b[39;49m\u001b[43m,\u001b[49m\u001b[43m \u001b[49m\u001b[43mbuffer\u001b[49m\u001b[43m)\u001b[49m\n\u001b[0;32m   1167\u001b[0m     \u001b[38;5;28;01melse\u001b[39;00m:\n\u001b[0;32m   1168\u001b[0m         \u001b[38;5;28;01mreturn\u001b[39;00m \u001b[38;5;28mself\u001b[39m\u001b[38;5;241m.\u001b[39m_sslobj\u001b[38;5;241m.\u001b[39mread(\u001b[38;5;28mlen\u001b[39m)\n",
      "\u001b[1;31mKeyboardInterrupt\u001b[0m: "
     ]
    }
   ],
   "source": [
    "def extract_data(key, value):\n",
    "    \n",
    "    for i in range(len(keys)):\n",
    "        urllib.request.urlretrieve(values[i], f'./data/dados_{keys[i]}.csv')\n",
    "\n",
    "# Example usage\n",
    "\n",
    "extract_data(values, keys)"
   ]
  },
  {
   "cell_type": "markdown",
   "metadata": {},
   "source": [
    "# Criando dataframe com os anos 2015 a 2024"
   ]
  },
  {
   "cell_type": "code",
   "execution_count": null,
   "metadata": {},
   "outputs": [
    {
     "name": "stderr",
     "output_type": "stream",
     "text": [
      "C:\\Users\\Lenovo\\AppData\\Local\\Temp\\ipykernel_932\\1398006374.py:3: DtypeWarning: Columns (13) have mixed types. Specify dtype option on import or set low_memory=False.\n",
      "  dfs[key] = pd.read_csv(f'./data/dados_{key}.csv')\n",
      "C:\\Users\\Lenovo\\AppData\\Local\\Temp\\ipykernel_932\\1398006374.py:3: DtypeWarning: Columns (13) have mixed types. Specify dtype option on import or set low_memory=False.\n",
      "  dfs[key] = pd.read_csv(f'./data/dados_{key}.csv')\n",
      "C:\\Users\\Lenovo\\AppData\\Local\\Temp\\ipykernel_932\\1398006374.py:3: DtypeWarning: Columns (13) have mixed types. Specify dtype option on import or set low_memory=False.\n",
      "  dfs[key] = pd.read_csv(f'./data/dados_{key}.csv')\n",
      "C:\\Users\\Lenovo\\AppData\\Local\\Temp\\ipykernel_932\\1398006374.py:3: DtypeWarning: Columns (13) have mixed types. Specify dtype option on import or set low_memory=False.\n",
      "  dfs[key] = pd.read_csv(f'./data/dados_{key}.csv')\n",
      "C:\\Users\\Lenovo\\AppData\\Local\\Temp\\ipykernel_932\\1398006374.py:3: DtypeWarning: Columns (13) have mixed types. Specify dtype option on import or set low_memory=False.\n",
      "  dfs[key] = pd.read_csv(f'./data/dados_{key}.csv')\n",
      "C:\\Users\\Lenovo\\AppData\\Local\\Temp\\ipykernel_932\\1398006374.py:3: DtypeWarning: Columns (13,14) have mixed types. Specify dtype option on import or set low_memory=False.\n",
      "  dfs[key] = pd.read_csv(f'./data/dados_{key}.csv')\n",
      "C:\\Users\\Lenovo\\AppData\\Local\\Temp\\ipykernel_932\\1398006374.py:3: DtypeWarning: Columns (13) have mixed types. Specify dtype option on import or set low_memory=False.\n",
      "  dfs[key] = pd.read_csv(f'./data/dados_{key}.csv')\n",
      "C:\\Users\\Lenovo\\AppData\\Local\\Temp\\ipykernel_932\\1398006374.py:3: DtypeWarning: Columns (13,14) have mixed types. Specify dtype option on import or set low_memory=False.\n",
      "  dfs[key] = pd.read_csv(f'./data/dados_{key}.csv')\n",
      "C:\\Users\\Lenovo\\AppData\\Local\\Temp\\ipykernel_932\\1398006374.py:3: DtypeWarning: Columns (13,14) have mixed types. Specify dtype option on import or set low_memory=False.\n",
      "  dfs[key] = pd.read_csv(f'./data/dados_{key}.csv')\n"
     ]
    }
   ],
   "source": [
    "dfs={}\n",
    "for key in keys:\n",
    "    dfs[key] = pd.read_csv(f'./data/dados_{key}.csv')"
   ]
  },
  {
   "cell_type": "code",
   "execution_count": null,
   "metadata": {},
   "outputs": [
    {
     "data": {
      "text/html": [
       "<div>\n",
       "<style scoped>\n",
       "    .dataframe tbody tr th:only-of-type {\n",
       "        vertical-align: middle;\n",
       "    }\n",
       "\n",
       "    .dataframe tbody tr th {\n",
       "        vertical-align: top;\n",
       "    }\n",
       "\n",
       "    .dataframe thead th {\n",
       "        text-align: right;\n",
       "    }\n",
       "</style>\n",
       "<table border=\"1\" class=\"dataframe\">\n",
       "  <thead>\n",
       "    <tr style=\"text-align: right;\">\n",
       "      <th></th>\n",
       "      <th>case_enquiry_id</th>\n",
       "      <th>open_dt</th>\n",
       "      <th>sla_target_dt</th>\n",
       "      <th>closed_dt</th>\n",
       "      <th>on_time</th>\n",
       "      <th>case_status</th>\n",
       "      <th>closure_reason</th>\n",
       "      <th>case_title</th>\n",
       "      <th>subject</th>\n",
       "      <th>reason</th>\n",
       "      <th>...</th>\n",
       "      <th>neighborhood</th>\n",
       "      <th>neighborhood_services_district</th>\n",
       "      <th>ward</th>\n",
       "      <th>precinct</th>\n",
       "      <th>location_street_name</th>\n",
       "      <th>location_zipcode</th>\n",
       "      <th>latitude</th>\n",
       "      <th>longitude</th>\n",
       "      <th>geom_4326</th>\n",
       "      <th>source</th>\n",
       "    </tr>\n",
       "  </thead>\n",
       "  <tbody>\n",
       "    <tr>\n",
       "      <th>0</th>\n",
       "      <td>101005264173</td>\n",
       "      <td>2024-01-18 07:43:28</td>\n",
       "      <td>2024-01-20 07:43:28</td>\n",
       "      <td>2024-01-18 10:53:23</td>\n",
       "      <td>ONTIME</td>\n",
       "      <td>Closed</td>\n",
       "      <td>Case Closed. Closed date : Thu Jan 18 15:53:23...</td>\n",
       "      <td>Unshoveled Sidewalk</td>\n",
       "      <td>Public Works Department</td>\n",
       "      <td>Code Enforcement</td>\n",
       "      <td>...</td>\n",
       "      <td>East Boston</td>\n",
       "      <td>1</td>\n",
       "      <td>Ward 1</td>\n",
       "      <td>0112</td>\n",
       "      <td>951 Bennington St</td>\n",
       "      <td>2128.0</td>\n",
       "      <td>42.385889</td>\n",
       "      <td>-71.008350</td>\n",
       "      <td>0101000020E6100000C51296CF88C051C0976E5FD36431...</td>\n",
       "      <td>Constituent Call</td>\n",
       "    </tr>\n",
       "    <tr>\n",
       "      <th>1</th>\n",
       "      <td>101005264159</td>\n",
       "      <td>2024-01-18 07:38:00</td>\n",
       "      <td>2025-01-17 07:38:52</td>\n",
       "      <td>NaN</td>\n",
       "      <td>ONTIME</td>\n",
       "      <td>Open</td>\n",
       "      <td></td>\n",
       "      <td>New Tree Requests</td>\n",
       "      <td>Parks &amp; Recreation Department</td>\n",
       "      <td>Trees</td>\n",
       "      <td>...</td>\n",
       "      <td>Charlestown</td>\n",
       "      <td>2</td>\n",
       "      <td>Ward 2</td>\n",
       "      <td>0204</td>\n",
       "      <td>27 Mystic St</td>\n",
       "      <td>2129.0</td>\n",
       "      <td>42.380170</td>\n",
       "      <td>-71.062200</td>\n",
       "      <td>0101000020E6100000B7B46A17FBC351C0D5831B65A930...</td>\n",
       "      <td>Employee Generated</td>\n",
       "    </tr>\n",
       "    <tr>\n",
       "      <th>2</th>\n",
       "      <td>101005264204</td>\n",
       "      <td>2024-01-18 07:52:57</td>\n",
       "      <td>2024-01-19 07:52:58</td>\n",
       "      <td>2024-01-31 05:46:16</td>\n",
       "      <td>OVERDUE</td>\n",
       "      <td>Closed</td>\n",
       "      <td>Case Closed. Closed date : 2024-01-31 10:46:16...</td>\n",
       "      <td>Parking Enforcement</td>\n",
       "      <td>Transportation - Traffic Division</td>\n",
       "      <td>Enforcement &amp; Abandoned Vehicles</td>\n",
       "      <td>...</td>\n",
       "      <td>Roslindale</td>\n",
       "      <td>10</td>\n",
       "      <td>Ward 19</td>\n",
       "      <td>1911</td>\n",
       "      <td>34 Lochdale Rd</td>\n",
       "      <td>2131.0</td>\n",
       "      <td>42.294600</td>\n",
       "      <td>-71.120581</td>\n",
       "      <td>0101000020E6100000256E3C98B7C751C0D579A770B525...</td>\n",
       "      <td>Citizens Connect App</td>\n",
       "    </tr>\n",
       "    <tr>\n",
       "      <th>3</th>\n",
       "      <td>101005264177</td>\n",
       "      <td>2024-01-18 07:44:05</td>\n",
       "      <td>2024-02-17 07:44:06</td>\n",
       "      <td>2024-01-19 03:15:16</td>\n",
       "      <td>ONTIME</td>\n",
       "      <td>Closed</td>\n",
       "      <td>Case Closed. Closed date : 2024-01-19 08:15:16...</td>\n",
       "      <td>Heat - Excessive  Insufficient</td>\n",
       "      <td>Inspectional Services</td>\n",
       "      <td>Housing</td>\n",
       "      <td>...</td>\n",
       "      <td>East Boston</td>\n",
       "      <td>1</td>\n",
       "      <td>01</td>\n",
       "      <td>0108</td>\n",
       "      <td>800 Border St</td>\n",
       "      <td>2128.0</td>\n",
       "      <td>42.382096</td>\n",
       "      <td>-71.040662</td>\n",
       "      <td>0101000020E6100000B584ED359AC251C0FD5B8185E830...</td>\n",
       "      <td>Constituent Call</td>\n",
       "    </tr>\n",
       "    <tr>\n",
       "      <th>4</th>\n",
       "      <td>101005264185</td>\n",
       "      <td>2024-01-18 07:46:33</td>\n",
       "      <td>2024-02-17 07:46:33</td>\n",
       "      <td>2024-01-19 03:16:09</td>\n",
       "      <td>ONTIME</td>\n",
       "      <td>Closed</td>\n",
       "      <td>Case Closed. Closed date : 2024-01-19 08:16:09...</td>\n",
       "      <td>Heat - Excessive  Insufficient</td>\n",
       "      <td>Inspectional Services</td>\n",
       "      <td>Housing</td>\n",
       "      <td>...</td>\n",
       "      <td>East Boston</td>\n",
       "      <td>1</td>\n",
       "      <td>01</td>\n",
       "      <td>0108</td>\n",
       "      <td>800-808 Border St</td>\n",
       "      <td>2128.0</td>\n",
       "      <td>42.382129</td>\n",
       "      <td>-71.040897</td>\n",
       "      <td>0101000020E6100000A70FAC0C9EC251C03D691B9BE930...</td>\n",
       "      <td>Constituent Call</td>\n",
       "    </tr>\n",
       "  </tbody>\n",
       "</table>\n",
       "<p>5 rows × 30 columns</p>\n",
       "</div>"
      ],
      "text/plain": [
       "   case_enquiry_id              open_dt        sla_target_dt  \\\n",
       "0     101005264173  2024-01-18 07:43:28  2024-01-20 07:43:28   \n",
       "1     101005264159  2024-01-18 07:38:00  2025-01-17 07:38:52   \n",
       "2     101005264204  2024-01-18 07:52:57  2024-01-19 07:52:58   \n",
       "3     101005264177  2024-01-18 07:44:05  2024-02-17 07:44:06   \n",
       "4     101005264185  2024-01-18 07:46:33  2024-02-17 07:46:33   \n",
       "\n",
       "             closed_dt  on_time case_status  \\\n",
       "0  2024-01-18 10:53:23   ONTIME      Closed   \n",
       "1                  NaN   ONTIME        Open   \n",
       "2  2024-01-31 05:46:16  OVERDUE      Closed   \n",
       "3  2024-01-19 03:15:16   ONTIME      Closed   \n",
       "4  2024-01-19 03:16:09   ONTIME      Closed   \n",
       "\n",
       "                                      closure_reason  \\\n",
       "0  Case Closed. Closed date : Thu Jan 18 15:53:23...   \n",
       "1                                                      \n",
       "2  Case Closed. Closed date : 2024-01-31 10:46:16...   \n",
       "3  Case Closed. Closed date : 2024-01-19 08:15:16...   \n",
       "4  Case Closed. Closed date : 2024-01-19 08:16:09...   \n",
       "\n",
       "                       case_title                            subject  \\\n",
       "0             Unshoveled Sidewalk            Public Works Department   \n",
       "1               New Tree Requests      Parks & Recreation Department   \n",
       "2             Parking Enforcement  Transportation - Traffic Division   \n",
       "3  Heat - Excessive  Insufficient              Inspectional Services   \n",
       "4  Heat - Excessive  Insufficient              Inspectional Services   \n",
       "\n",
       "                             reason  ... neighborhood  \\\n",
       "0                  Code Enforcement  ...  East Boston   \n",
       "1                             Trees  ...  Charlestown   \n",
       "2  Enforcement & Abandoned Vehicles  ...   Roslindale   \n",
       "3                           Housing  ...  East Boston   \n",
       "4                           Housing  ...  East Boston   \n",
       "\n",
       "  neighborhood_services_district     ward  precinct location_street_name  \\\n",
       "0                              1   Ward 1      0112    951 Bennington St   \n",
       "1                              2   Ward 2      0204         27 Mystic St   \n",
       "2                             10  Ward 19      1911       34 Lochdale Rd   \n",
       "3                              1       01      0108        800 Border St   \n",
       "4                              1       01      0108    800-808 Border St   \n",
       "\n",
       "  location_zipcode   latitude  longitude  \\\n",
       "0           2128.0  42.385889 -71.008350   \n",
       "1           2129.0  42.380170 -71.062200   \n",
       "2           2131.0  42.294600 -71.120581   \n",
       "3           2128.0  42.382096 -71.040662   \n",
       "4           2128.0  42.382129 -71.040897   \n",
       "\n",
       "                                           geom_4326                source  \n",
       "0  0101000020E6100000C51296CF88C051C0976E5FD36431...      Constituent Call  \n",
       "1  0101000020E6100000B7B46A17FBC351C0D5831B65A930...    Employee Generated  \n",
       "2  0101000020E6100000256E3C98B7C751C0D579A770B525...  Citizens Connect App  \n",
       "3  0101000020E6100000B584ED359AC251C0FD5B8185E830...      Constituent Call  \n",
       "4  0101000020E6100000A70FAC0C9EC251C03D691B9BE930...      Constituent Call  \n",
       "\n",
       "[5 rows x 30 columns]"
      ]
     },
     "execution_count": 57,
     "metadata": {},
     "output_type": "execute_result"
    }
   ],
   "source": [
    "dfs['2024'].head()"
   ]
  },
  {
   "cell_type": "markdown",
   "metadata": {},
   "source": [
    "# Criando conexão com a AWS"
   ]
  },
  {
   "cell_type": "code",
   "execution_count": null,
   "metadata": {},
   "outputs": [],
   "source": [
    "aws_id_chave_acesso = 'colocar seu aws_access_key_id'\n",
    "aws_acesso_chave_secreta ='colocar aqui seu aws_secret_access_key'\n",
    "nome_regiao = 'sa-east-1'\n",
    "\n",
    "boto3.setup_default_session(\n",
    "                            aws_access_key_id = aws_id_chave_acesso,\n",
    "                            aws_secret_access_key = aws_acesso_chave_secreta, \n",
    "                            region_name = nome_regiao, \n",
    "                            )\n",
    "\n",
    "\n",
    "s3 = boto3.client('s3')\n"
   ]
  },
  {
   "cell_type": "code",
   "execution_count": null,
   "metadata": {},
   "outputs": [],
   "source": [
    "content = \"\"\" ola , s3 \"\"\"\n",
    "\n",
    "with open('hellow-s3.txt', 'w+')as f:\n",
    "    f.write(content)"
   ]
  },
  {
   "cell_type": "markdown",
   "metadata": {},
   "source": [
    "## Testando conexão"
   ]
  },
  {
   "cell_type": "code",
   "execution_count": null,
   "metadata": {},
   "outputs": [],
   "source": [
    "s3.upload_file('hellow-s3.txt', 'data-lake-boston', 'bronze/hellow-s3')"
   ]
  },
  {
   "cell_type": "markdown",
   "metadata": {},
   "source": [
    "# Salvando o arquivo em Parquet"
   ]
  },
  {
   "cell_type": "code",
   "execution_count": 74,
   "metadata": {},
   "outputs": [],
   "source": [
    "from io import BytesIO\n",
    "for ano, df in dfs.items():\n",
    "    parquet_buffer = BytesIO()\n",
    "    df.to_parquet(parquet_buffer)\n",
    "    s3.put_object(\n",
    "        Bucket = 'data-lake-boston',\n",
    "        Key = f'bronze/dados_{ano}.parquet',\n",
    "        Body = parquet_buffer.getvalue(),\n",
    "    )"
   ]
  },
  {
   "cell_type": "code",
   "execution_count": 75,
   "metadata": {},
   "outputs": [],
   "source": [
    "response = s3.list_objects_v2(Bucket = 'data-lake-boston')"
   ]
  },
  {
   "cell_type": "code",
   "execution_count": 76,
   "metadata": {},
   "outputs": [
    {
     "name": "stdout",
     "output_type": "stream",
     "text": [
      "['bronze/', 'bronze/dados_2015.parquet', 'bronze/dados_2016.parquet', 'bronze/dados_2017.parquet', 'bronze/dados_2018.parquet', 'bronze/dados_2019.parquet', 'bronze/dados_2020.parquet', 'bronze/dados_2021.parquet', 'bronze/dados_2022.parquet', 'bronze/dados_2023.parquet', 'bronze/dados_2024.parquet', 'bronze/hellow-s3', 'silver/']\n"
     ]
    }
   ],
   "source": [
    "chave = [obj['Key'] for obj in response['Contents']]\n",
    "print(chave)"
   ]
  }
 ],
 "metadata": {
  "kernelspec": {
   "display_name": "Python 3",
   "language": "python",
   "name": "python3"
  },
  "language_info": {
   "codemirror_mode": {
    "name": "ipython",
    "version": 3
   },
   "file_extension": ".py",
   "mimetype": "text/x-python",
   "name": "python",
   "nbconvert_exporter": "python",
   "pygments_lexer": "ipython3",
   "version": "3.11.9"
  }
 },
 "nbformat": 4,
 "nbformat_minor": 2
}
